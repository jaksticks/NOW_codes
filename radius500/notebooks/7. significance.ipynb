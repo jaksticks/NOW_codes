{
 "cells": [
  {
   "cell_type": "markdown",
   "metadata": {},
   "source": [
    "# CALCULATE SIGNIFICANCE\n",
    "\n",
    "Here, we calculate for each locality/grid point the probability of observing as many or more first/last occurrences  as we do (also proportion of emigration/immigration). We use the expectations calculated based on numbers of occurrence in the previous/following time unit within a focal area around the locality."
   ]
  },
  {
   "cell_type": "code",
   "execution_count": 1,
   "metadata": {},
   "outputs": [],
   "source": [
    "import pandas as pd\n",
    "import numpy as np\n",
    "from scipy.stats import binom\n",
    "from scipy.stats import beta\n",
    "import matplotlib.pyplot as plt\n",
    "import time\n",
    "\n",
    "df = pd.read_csv('../csv/NOW_dataframe_cleaned.csv', index_col=0)\n",
    "localityFeatures = pd.read_csv('../csv/localityFeatures500.csv', index_col=0)\n",
    "\n",
    "timeUnits = ['old','MN1','MN2','MN3','MN4','MN5','MN6','MN7-8','MN9','MN10','MN11','MN12','MN13','MN14','MN15','MN16','MN17','MQ18','MQ19','recent']\n",
    "pd.set_option('max_columns',100)"
   ]
  },
  {
   "cell_type": "code",
   "execution_count": 2,
   "metadata": {},
   "outputs": [],
   "source": [
    "# import grid data\n",
    "\n",
    "gridFeaturesAll = []\n",
    "for timeUnit in timeUnits[1:19]:\n",
    "    filename = '../csv/gridFeatures500/gridFeatures_' + timeUnit + '.csv'\n",
    "    gridFeatures = pd.read_csv(filename, index_col=0)\n",
    "    gridFeaturesAll.append(gridFeatures)"
   ]
  },
  {
   "cell_type": "code",
   "execution_count": 3,
   "metadata": {},
   "outputs": [],
   "source": [
    "# CALCULATE SIGNIFICANCE for localities\n",
    "\n",
    "for ix in localityFeatures.index:\n",
    "    localityFeatures.loc[ix,'SIGNIFICANCE FIRST'] = \\\n",
    "                beta.cdf(localityFeatures.loc[ix,'EXPECTED PROPORTION OF FIRST OCCURRENCES'],\\\n",
    "                        localityFeatures.loc[ix,'FIRST OCCURRENCES IN FOCAL AREA (t)'],\\\n",
    "                        localityFeatures.loc[ix,'OCCURRENCES IN FOCAL AREA (t)']-\\\n",
    "                        localityFeatures.loc[ix,'FIRST OCCURRENCES IN FOCAL AREA (t)']+1 ) \n",
    "    localityFeatures.loc[ix,'SIGNIFICANCE LAST'] = \\\n",
    "                beta.cdf(localityFeatures.loc[ix,'EXPECTED PROPORTION OF LAST OCCURRENCES'],\\\n",
    "                        localityFeatures.loc[ix,'LAST OCCURRENCES IN FOCAL AREA (t)'],\\\n",
    "                        localityFeatures.loc[ix,'OCCURRENCES IN FOCAL AREA (t)']-\\\n",
    "                        localityFeatures.loc[ix,'LAST OCCURRENCES IN FOCAL AREA (t)']+1 ) \n",
    "    localityFeatures.loc[ix,'SIGNIFICANCE EMIGRATION'] = \\\n",
    "                beta.cdf(localityFeatures.loc[ix,'EXPECTED PROPORTION OF EMIGRATION'],\\\n",
    "                        localityFeatures.loc[ix,'NUMBER EMIGRANTS'],\\\n",
    "                        localityFeatures.loc[ix,'OCCURRENCES EMIGRATION (t)']-\\\n",
    "                        localityFeatures.loc[ix,'NUMBER EMIGRANTS']+1 )  \n",
    "    localityFeatures.loc[ix,'SIGNIFICANCE IMMIGRATION'] = \\\n",
    "                beta.cdf(localityFeatures.loc[ix,'EXPECTED PROPORTION OF IMMIGRATION'],\\\n",
    "                        localityFeatures.loc[ix,'NUMBER IMMIGRANTS'],\\\n",
    "                        localityFeatures.loc[ix,'OCCURRENCES IMMIGRATION (t)']-\\\n",
    "                        localityFeatures.loc[ix,'NUMBER IMMIGRANTS']+1 )    "
   ]
  },
  {
   "cell_type": "code",
   "execution_count": 4,
   "metadata": {},
   "outputs": [
    {
     "name": "stdout",
     "output_type": "stream",
     "text": [
      "MN2\n",
      "Time elapsed: 1.2153127499999998 minutes.\n",
      "MN3\n",
      "Time elapsed: 0.8023054 minutes.\n",
      "MN4\n",
      "Time elapsed: 0.8343757833333333 minutes.\n",
      "MN5\n",
      "Time elapsed: 0.783901516666667 minutes.\n",
      "MN6\n",
      "Time elapsed: 0.7258813666666668 minutes.\n",
      "MN7-8\n",
      "Time elapsed: 0.7314113166666668 minutes.\n",
      "MN9\n",
      "Time elapsed: 0.7565169166666663 minutes.\n",
      "MN10\n",
      "Time elapsed: 0.7406408499999998 minutes.\n",
      "MN11\n",
      "Time elapsed: 0.7458674000000002 minutes.\n",
      "MN12\n",
      "Time elapsed: 0.7396380833333335 minutes.\n",
      "MN13\n",
      "Time elapsed: 0.8170487499999998 minutes.\n",
      "MN14\n",
      "Time elapsed: 0.7564272833333348 minutes.\n",
      "MN15\n",
      "Time elapsed: 0.744855099999999 minutes.\n",
      "MN16\n",
      "Time elapsed: 0.7500425500000005 minutes.\n",
      "MN17\n",
      "Time elapsed: 0.7394861166666676 minutes.\n",
      "MQ18\n",
      "Time elapsed: 0.7587823999999993 minutes.\n",
      "MQ19\n",
      "Time elapsed: 1.2326177833333343 minutes.\n"
     ]
    }
   ],
   "source": [
    "# CALCULATE SIGNIFICANCE for grid points\n",
    "\n",
    "timeCount = 2\n",
    "for gridFeatures in gridFeaturesAll[1::]:\n",
    "    tic = time.clock()\n",
    "    for ix in gridFeatures.index:\n",
    "        gridFeatures.loc[ix,'SIGNIFICANCE FIRST'] = \\\n",
    "                    beta.cdf(gridFeatures.loc[ix,'EXPECTED PROPORTION OF FIRST OCCURRENCES'],\\\n",
    "                            gridFeatures.loc[ix,'FIRST OCCURRENCES IN FOCAL AREA (t)'],\\\n",
    "                            gridFeatures.loc[ix,'OCCURRENCES IN FOCAL AREA (t)']-\\\n",
    "                            gridFeatures.loc[ix,'FIRST OCCURRENCES IN FOCAL AREA (t)']+1 ) \n",
    "        gridFeatures.loc[ix,'SIGNIFICANCE LAST'] = \\\n",
    "                    beta.cdf(gridFeatures.loc[ix,'EXPECTED PROPORTION OF LAST OCCURRENCES'],\\\n",
    "                            gridFeatures.loc[ix,'LAST OCCURRENCES IN FOCAL AREA (t)'],\\\n",
    "                            gridFeatures.loc[ix,'OCCURRENCES IN FOCAL AREA (t)']-\\\n",
    "                            gridFeatures.loc[ix,'LAST OCCURRENCES IN FOCAL AREA (t)']+1 ) \n",
    "        gridFeatures.loc[ix,'SIGNIFICANCE EMIGRATION'] = \\\n",
    "                    beta.cdf(gridFeatures.loc[ix,'EXPECTED PROPORTION OF EMIGRATION'],\\\n",
    "                            gridFeatures.loc[ix,'EMIGRATION'],\\\n",
    "                            gridFeaturesAll[timeCount-2].loc[ix,'OCCURRENCES WITHOUT EXTINCTION']-\\\n",
    "                            gridFeatures.loc[ix,'EMIGRATION']+1 )  \n",
    "        gridFeatures.loc[ix,'SIGNIFICANCE IMMIGRATION'] = \\\n",
    "                    beta.cdf(gridFeatures.loc[ix,'EXPECTED PROPORTION OF IMMIGRATION'],\\\n",
    "                            gridFeatures.loc[ix,'IMMIGRATION'],\\\n",
    "                            gridFeatures.loc[ix,'OCCURRENCES WITHOUT SPECIATION']-\\\n",
    "                            gridFeatures.loc[ix,'IMMIGRATION']+1 ) \n",
    "    \n",
    "    toc = time.clock() \n",
    "    print(timeUnits[timeCount])\n",
    "    timeCount += 1\n",
    "    print('Time elapsed: ' + str((toc-tic)/60) + ' minutes.')         "
   ]
  },
  {
   "cell_type": "code",
   "execution_count": 5,
   "metadata": {},
   "outputs": [],
   "source": [
    "# save locality data\n",
    "localityFeatures.to_csv('../csv/localityFeatures500.csv')"
   ]
  },
  {
   "cell_type": "code",
   "execution_count": 6,
   "metadata": {},
   "outputs": [],
   "source": [
    "# save grid data\n",
    "timeUnit_count = 1\n",
    "for gridFeatures in gridFeaturesAll:\n",
    "    focalTimeUnit = timeUnits[timeUnit_count]\n",
    "    filename = '../csv/gridFeatures500/gridFeatures_' + focalTimeUnit + '.csv'\n",
    "    gridFeatures.to_csv(filename)\n",
    "    timeUnit_count += 1"
   ]
  },
  {
   "cell_type": "markdown",
   "metadata": {},
   "source": [
    "## Beta distribution\n",
    "\n",
    "The beta distribution can be used as a continuous approximation of the binomial distribution."
   ]
  },
  {
   "cell_type": "code",
   "execution_count": 7,
   "metadata": {},
   "outputs": [
    {
     "data": {
      "image/png": "[encoded data removed]",
      "text/plain": [
       "<Figure size 432x288 with 1 Axes>"
      ]
     },
     "metadata": {},
     "output_type": "display_data"
    }
   ],
   "source": [
    "P = 0.5 # probability of success\n",
    "T = 5 # trials\n",
    "x = np.arange(0,T+1,1)\n",
    "# binomial probability for x or more successes in T trials\n",
    "plt.scatter(x,binom.sf(x-1,T,0.5))\n",
    "x = np.linspace(0,T,100)\n",
    "# beta probability for x or more successes in T trials (continuous)\n",
    "plt.plot(x,beta.cdf(0.5,x,T-x+1),'red')\n",
    "plt.show()"
   ]
  },
  {
   "cell_type": "code",
   "execution_count": 8,
   "metadata": {},
   "outputs": [
    {
     "data": {
      "image/png": "[encoded data removed]",
      "text/plain": [
       "<Figure size 432x288 with 1 Axes>"
      ]
     },
     "metadata": {},
     "output_type": "display_data"
    }
   ],
   "source": [
    "P = 0.5 # probability of success\n",
    "T = 10 # trials\n",
    "x = np.arange(0,T+1,1)\n",
    "# binomial probability for x or more successes in T trials\n",
    "plt.scatter(x,binom.sf(x-1,T,0.5))\n",
    "x = np.linspace(0,T,100)\n",
    "# beta probability for x or more successes in T trials (continuous)\n",
    "plt.plot(x,beta.cdf(0.5,x,T-x+1),'red')\n",
    "plt.show()"
   ]
  },
  {
   "cell_type": "code",
   "execution_count": 9,
   "metadata": {},
   "outputs": [
    {
     "data": {
      "image/png": "[encoded data removed]",
      "text/plain": [
       "<Figure size 432x288 with 1 Axes>"
      ]
     },
     "metadata": {},
     "output_type": "display_data"
    }
   ],
   "source": [
    "P = 0.5 # probability of success\n",
    "T = 100 # trials\n",
    "x = np.arange(0,T+1,1)\n",
    "# binomial probability for x or more successes in T trials\n",
    "plt.scatter(x,binom.sf(x-1,T,0.5))\n",
    "x = np.linspace(0,T,100)\n",
    "# beta probability for x or more successes in T trials (continuous)\n",
    "plt.plot(x,beta.cdf(0.5,x,T-x+1),'red')\n",
    "plt.show()"
   ]
  },
  {
   "cell_type": "code",
   "execution_count": 10,
   "metadata": {},
   "outputs": [
    {
     "data": {
      "text/plain": [
       "0.5397946186935897"
      ]
     },
     "metadata": {},
     "output_type": "display_data"
    },
    {
     "data": {
      "text/plain": [
       "0.5397946186935897"
      ]
     },
     "metadata": {},
     "output_type": "display_data"
    }
   ],
   "source": [
    "display(binom.sf(49,100,0.5))\n",
    "display(beta.cdf(0.5,50,100-50+1))"
   ]
  },
  {
   "cell_type": "code",
   "execution_count": 11,
   "metadata": {},
   "outputs": [
    {
     "data": {
      "text/plain": [
       "0.9999999920473358"
      ]
     },
     "metadata": {},
     "output_type": "display_data"
    },
    {
     "data": {
      "text/plain": [
       "0.9936696577397615"
      ]
     },
     "metadata": {},
     "output_type": "display_data"
    }
   ],
   "source": [
    "display(binom.sf(22,100,0.5))\n",
    "display(beta.cdf(0.5,50,100-23+1))"
   ]
  },
  {
   "cell_type": "code",
   "execution_count": 12,
   "metadata": {},
   "outputs": [
    {
     "data": {
      "image/png": "[encoded data removed]",
      "text/plain": [
       "<Figure size 432x288 with 1 Axes>"
      ]
     },
     "metadata": {},
     "output_type": "display_data"
    }
   ],
   "source": [
    "# binomial can only be used for x,T = integers\n",
    "T = 4.2\n",
    "x = np.arange(-1,np.round(T),1) # trial number rounded \n",
    "plt.scatter(x+1,binom.sf(x,np.round(T),0.5))\n",
    "x = np.linspace(0,T,100)\n",
    "plt.plot(x,beta.cdf(0.5,x,T-x+1),'red')\n",
    "plt.show()"
   ]
  },
  {
   "cell_type": "code",
   "execution_count": null,
   "metadata": {},
   "outputs": [],
   "source": []
  }
 ],
 "metadata": {
  "kernelspec": {
   "display_name": "Python 3",
   "language": "python",
   "name": "python3"
  },
  "language_info": {
   "codemirror_mode": {
    "name": "ipython",
    "version": 3
   },
   "file_extension": ".py",
   "mimetype": "text/x-python",
   "name": "python",
   "nbconvert_exporter": "python",
   "pygments_lexer": "ipython3",
   "version": "3.6.7"
  }
 },
 "nbformat": 4,
 "nbformat_minor": 2
}
